{
 "cells": [
  {
   "cell_type": "code",
   "execution_count": 5,
   "id": "c2d666b7",
   "metadata": {},
   "outputs": [
    {
     "data": {
      "text/plain": [
       "['spam', 'ham', 'eggs', 'ham']"
      ]
     },
     "execution_count": 5,
     "metadata": {},
     "output_type": "execute_result"
    }
   ],
   "source": [
    " ## Python Homework Monday\n",
    "\n",
    "### Question 1\n",
    "\n",
    "shopping_list = [\"spam\", \"ham\", \"eggs\", \"ham\"]\n",
    "shopping_list"
   ]
  },
  {
   "cell_type": "code",
   "execution_count": 6,
   "id": "0723b714",
   "metadata": {},
   "outputs": [
    {
     "data": {
      "text/plain": [
       "'ham'"
      ]
     },
     "execution_count": 6,
     "metadata": {},
     "output_type": "execute_result"
    }
   ],
   "source": [
    "# 1\n",
    "shopping_list[1]"
   ]
  },
  {
   "cell_type": "code",
   "execution_count": 7,
   "id": "4c895215",
   "metadata": {},
   "outputs": [
    {
     "data": {
      "text/plain": [
       "['spam', 'ham', 'eggs']"
      ]
     },
     "execution_count": 7,
     "metadata": {},
     "output_type": "execute_result"
    }
   ],
   "source": [
    "# 2\n",
    "shopping_list[0:3]"
   ]
  },
  {
   "cell_type": "code",
   "execution_count": 8,
   "id": "d5bcac3a",
   "metadata": {},
   "outputs": [
    {
     "data": {
      "text/plain": [
       "'ham'"
      ]
     },
     "execution_count": 8,
     "metadata": {},
     "output_type": "execute_result"
    }
   ],
   "source": [
    "# 3\n",
    "shopping_list[-1]"
   ]
  },
  {
   "cell_type": "code",
   "execution_count": 9,
   "id": "d2cc3d56",
   "metadata": {},
   "outputs": [
    {
     "data": {
      "text/plain": [
       "['Croy',\n",
       " 'Cumbernauld',\n",
       " 'Falkirk High',\n",
       " 'Linlithgow',\n",
       " 'Livingston',\n",
       " 'Haymarket']"
      ]
     },
     "execution_count": 9,
     "metadata": {},
     "output_type": "execute_result"
    }
   ],
   "source": [
    "### Question 2\n",
    "\n",
    "# 1\n",
    "stops = [\"Croy\", \"Cumbernauld\", \"Falkirk High\", \"Linlithgow\", \"Livingston\", \"Haymarket\"]\n",
    "stops"
   ]
  },
  {
   "cell_type": "code",
   "execution_count": 10,
   "id": "fcd1a267",
   "metadata": {},
   "outputs": [
    {
     "data": {
      "text/plain": [
       "['Queen Street',\n",
       " 'Croy',\n",
       " 'Cumbernauld',\n",
       " 'Falkirk High',\n",
       " 'Linlithgow',\n",
       " 'Livingston',\n",
       " 'Haymarket']"
      ]
     },
     "execution_count": 10,
     "metadata": {},
     "output_type": "execute_result"
    }
   ],
   "source": [
    "# 2\n",
    "\n",
    "stops.insert(0, \"Queen Street\")\n",
    "stops"
   ]
  },
  {
   "cell_type": "code",
   "execution_count": 11,
   "id": "2b1ccc6b",
   "metadata": {},
   "outputs": [
    {
     "data": {
      "text/plain": [
       "1"
      ]
     },
     "execution_count": 11,
     "metadata": {},
     "output_type": "execute_result"
    }
   ],
   "source": [
    "# 3\n",
    "stops.index(\"Croy\")"
   ]
  },
  {
   "cell_type": "code",
   "execution_count": 12,
   "id": "ad27e5e2",
   "metadata": {},
   "outputs": [
    {
     "data": {
      "text/plain": [
       "['Queen Street',\n",
       " 'Croy',\n",
       " 'Cumbernauld',\n",
       " 'Falkirk High',\n",
       " 'Linlithgow',\n",
       " 'Livingston']"
      ]
     },
     "execution_count": 12,
     "metadata": {},
     "output_type": "execute_result"
    }
   ],
   "source": [
    "# 4\n",
    "\n",
    "stops.remove(\"Haymarket\")\n",
    "stops"
   ]
  },
  {
   "cell_type": "code",
   "execution_count": null,
   "id": "05e71317",
   "metadata": {},
   "outputs": [],
   "source": [
    "#6 \n",
    "stops.clear()\n",
    "stops"
   ]
  },
  {
   "cell_type": "code",
   "execution_count": null,
   "id": "d04b82cb",
   "metadata": {},
   "outputs": [],
   "source": [
    "## Question 3 \n",
    "\n",
    "person = {\"name\": \"Steph\", \"age\": 31, \"Instructor\" : True}"
   ]
  },
  {
   "cell_type": "code",
   "execution_count": null,
   "id": "dc37ddec",
   "metadata": {},
   "outputs": [],
   "source": [
    "# 1\n",
    "person.keys()\n",
    "\n",
    "\n",
    "person.values()\n",
    "\n",
    "\n",
    "person.items()"
   ]
  },
  {
   "cell_type": "code",
   "execution_count": null,
   "id": "099c0ed5",
   "metadata": {},
   "outputs": [],
   "source": [
    "#2\n",
    "person.pop(\"name\")"
   ]
  },
  {
   "cell_type": "code",
   "execution_count": null,
   "id": "047b9aeb",
   "metadata": {},
   "outputs": [],
   "source": [
    "#3\n",
    "person.update({\"email\": \"steph@codeclan.com\"})\n",
    "person"
   ]
  },
  {
   "cell_type": "code",
   "execution_count": null,
   "id": "2f5a1e20",
   "metadata": {},
   "outputs": [],
   "source": [
    "#4\n",
    "del person[\"Instructor\"]\n",
    "person"
   ]
  },
  {
   "cell_type": "code",
   "execution_count": null,
   "id": "a4eb830f",
   "metadata": {},
   "outputs": [],
   "source": [
    "## 4\n",
    "\n",
    "numbers = [1, 6, 2, 2, 7, 1, 6, 13, 99, 7]\n",
    "\n",
    "even_nums = []\n",
    "for number in numbers:\n",
    "    if number % 2 == 0:\n",
    "        even_nums.append(number)\n",
    "        print(even_nums)\n",
    "\n",
    "print(min(numbers))\n",
    "\n",
    "print(max(numbers))"
   ]
  },
  {
   "cell_type": "code",
   "execution_count": 4,
   "id": "5f15a704",
   "metadata": {},
   "outputs": [
    {
     "ename": "NameError",
     "evalue": "name 'numbers' is not defined",
     "output_type": "error",
     "traceback": [
      "\u001b[1;31m---------------------------------------------------------------------------\u001b[0m",
      "\u001b[1;31mNameError\u001b[0m                                 Traceback (most recent call last)",
      "\u001b[1;32m~\\AppData\\Local\\Temp\\ipykernel_14088\\3683749201.py\u001b[0m in \u001b[0;36m<module>\u001b[1;34m\u001b[0m\n\u001b[0;32m      1\u001b[0m \u001b[1;31m# 3\u001b[0m\u001b[1;33m\u001b[0m\u001b[1;33m\u001b[0m\u001b[0m\n\u001b[0;32m      2\u001b[0m \u001b[1;33m\u001b[0m\u001b[0m\n\u001b[1;32m----> 3\u001b[1;33m \u001b[1;32mfor\u001b[0m \u001b[0mnumber\u001b[0m \u001b[1;32min\u001b[0m \u001b[0mrange\u001b[0m\u001b[1;33m(\u001b[0m\u001b[0mlen\u001b[0m\u001b[1;33m(\u001b[0m\u001b[0mnumbers\u001b[0m\u001b[1;33m)\u001b[0m\u001b[1;33m)\u001b[0m\u001b[1;33m:\u001b[0m\u001b[1;33m\u001b[0m\u001b[1;33m\u001b[0m\u001b[0m\n\u001b[0m\u001b[0;32m      4\u001b[0m     \u001b[1;32mif\u001b[0m \u001b[0mnumbers\u001b[0m\u001b[1;33m[\u001b[0m\u001b[0mnumber\u001b[0m\u001b[1;33m]\u001b[0m \u001b[1;33m==\u001b[0m \u001b[1;36m2\u001b[0m \u001b[1;32mand\u001b[0m \u001b[0mnumbers\u001b[0m\u001b[1;33m[\u001b[0m\u001b[0mnumber\u001b[0m \u001b[1;33m+\u001b[0m \u001b[1;36m1\u001b[0m\u001b[1;33m]\u001b[0m \u001b[1;33m==\u001b[0m \u001b[1;36m2\u001b[0m\u001b[1;33m:\u001b[0m\u001b[1;33m\u001b[0m\u001b[1;33m\u001b[0m\u001b[0m\n\u001b[0;32m      5\u001b[0m         \u001b[0mprint\u001b[0m \u001b[1;33m(\u001b[0m\u001b[1;32mTrue\u001b[0m\u001b[1;33m)\u001b[0m\u001b[1;33m\u001b[0m\u001b[1;33m\u001b[0m\u001b[0m\n",
      "\u001b[1;31mNameError\u001b[0m: name 'numbers' is not defined"
     ]
    }
   ],
   "source": [
    "# 3\n",
    "\n",
    "for number in range(len(numbers)):\n",
    "    if numbers[number] == 2 and numbers[number + 1] == 2:\n",
    "        print (True)"
   ]
  },
  {
   "cell_type": "code",
   "execution_count": 3,
   "id": "7923bf86",
   "metadata": {},
   "outputs": [
    {
     "ename": "NameError",
     "evalue": "name 'numbers' is not defined",
     "output_type": "error",
     "traceback": [
      "\u001b[1;31m---------------------------------------------------------------------------\u001b[0m",
      "\u001b[1;31mNameError\u001b[0m                                 Traceback (most recent call last)",
      "\u001b[1;32m~\\AppData\\Local\\Temp\\ipykernel_14088\\248030901.py\u001b[0m in \u001b[0;36m<module>\u001b[1;34m\u001b[0m\n\u001b[0;32m      1\u001b[0m \u001b[1;31m# 4\u001b[0m\u001b[1;33m\u001b[0m\u001b[1;33m\u001b[0m\u001b[0m\n\u001b[0;32m      2\u001b[0m \u001b[1;33m\u001b[0m\u001b[0m\n\u001b[1;32m----> 3\u001b[1;33m \u001b[1;32mfor\u001b[0m \u001b[0mnumber\u001b[0m \u001b[1;32min\u001b[0m \u001b[0mrange\u001b[0m\u001b[1;33m(\u001b[0m\u001b[0mlen\u001b[0m\u001b[1;33m(\u001b[0m\u001b[0mnumbers\u001b[0m\u001b[1;33m)\u001b[0m\u001b[1;33m)\u001b[0m\u001b[1;33m:\u001b[0m\u001b[1;33m\u001b[0m\u001b[1;33m\u001b[0m\u001b[0m\n\u001b[0m\u001b[0;32m      4\u001b[0m     \u001b[0mtotal_sum\u001b[0m \u001b[1;33m=\u001b[0m \u001b[1;36m0\u001b[0m\u001b[1;33m\u001b[0m\u001b[1;33m\u001b[0m\u001b[0m\n\u001b[0;32m      5\u001b[0m     \u001b[0mi\u001b[0m \u001b[1;33m=\u001b[0m \u001b[1;36m0\u001b[0m\u001b[1;33m\u001b[0m\u001b[1;33m\u001b[0m\u001b[0m\n",
      "\u001b[1;31mNameError\u001b[0m: name 'numbers' is not defined"
     ]
    }
   ],
   "source": [
    "# 4\n",
    "\n",
    "for number in range(len(numbers)):\n",
    "    total_sum = 0\n",
    "    i = 0\n",
    "    n = len(numbers)\n",
    "\n",
    "    while i < n:\n",
    "        if numbers[i] == 6:\n",
    "            while i < n and numbers[i] != 7:\n",
    "                i += 1\n",
    "            i += 1\n",
    "        else:\n",
    "            total_sum += numbers[i]\n",
    "            i += 1\n",
    "\n",
    "    print(total_sum)"
   ]
  },
  {
   "cell_type": "code",
   "execution_count": 2,
   "id": "a952eb23",
   "metadata": {},
   "outputs": [
    {
     "name": "stdout",
     "output_type": "stream",
     "text": [
      "Woo Python!\n"
     ]
    }
   ],
   "source": [
    "## Question 5\n",
    "\n",
    "python_is_fun = True\n",
    "python_is_weird = True\n",
    "\n",
    "if python_is_fun or python_is_weird:\n",
    "    print(\"Woo Python!\")\n",
    "else:\n",
    "    print(\"Python is not for me!\")\n",
    "        "
   ]
  },
  {
   "cell_type": "code",
   "execution_count": 1,
   "id": "02c61cb8",
   "metadata": {},
   "outputs": [
    {
     "data": {
      "text/plain": [
       "'4 eggs collected'"
      ]
     },
     "execution_count": 1,
     "metadata": {},
     "output_type": "execute_result"
    }
   ],
   "source": [
    "## Question 6\n",
    "\n",
    "chickens = [\n",
    "  { \"name\": \"Margaret\", \"age\": 2, \"eggs\": 0 },\n",
    "  { \"name\": \"Hetty\", \"age\": 1, \"eggs\": 2 },\n",
    "  { \"name\": \"Henrietta\", \"age\": 3, \"eggs\": 1 },\n",
    "  { \"name\": \"Audrey\", \"age\": 2, \"eggs\": 0 },\n",
    "  { \"name\": \"Mabel\", \"age\": 5, \"eggs\": 1 },\n",
    "]\n",
    "\n",
    "def count_eggos(chickens):\n",
    "    total_eggs = 0\n",
    "    \n",
    "    for chicken in chickens:\n",
    "        total_eggs += chicken[\"eggs\"]\n",
    "        chicken[\"eggs\"] = 0 \n",
    "\n",
    "    return(f\"{total_eggs} eggs collected\")\n",
    "\n",
    "count_eggos(chickens)"
   ]
  }
 ],
 "metadata": {
  "kernelspec": {
   "display_name": "Python 3 (ipykernel)",
   "language": "python",
   "name": "python3"
  },
  "language_info": {
   "codemirror_mode": {
    "name": "ipython",
    "version": 3
   },
   "file_extension": ".py",
   "mimetype": "text/x-python",
   "name": "python",
   "nbconvert_exporter": "python",
   "pygments_lexer": "ipython3",
   "version": "3.9.13"
  }
 },
 "nbformat": 4,
 "nbformat_minor": 5
}
